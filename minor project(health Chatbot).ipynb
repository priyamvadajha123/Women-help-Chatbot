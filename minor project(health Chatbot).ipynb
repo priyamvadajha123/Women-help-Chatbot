{
 "cells": [
  {
   "cell_type": "code",
   "execution_count": 1,
   "metadata": {},
   "outputs": [],
   "source": [
    "import numpy as np\n",
    "import pandas as pd\n",
    "import nltk\n",
    "import random\n",
    "from nltk.corpus import stopwords\n",
    "import string\n",
    "\n"
   ]
  },
  {
   "cell_type": "code",
   "execution_count": 2,
   "metadata": {},
   "outputs": [],
   "source": [
    "question=[\"Hello\",\"how are you doing today?\",\"May i know your name\"]\n",
    "question1=[\"press 1 to know about disease /n press2 to know the prevention and solution of a particular disease /n 3 to know the symptoms or causes  of a particular disease  /n 4 for queries related to any particular disease /n press 5 for pregnancy related queries\"]"
   ]
  },
  {
   "cell_type": "code",
   "execution_count": 3,
   "metadata": {},
   "outputs": [],
   "source": [
    "menstruation=\"1. Take a warm bath – It aids in the removal of body odour and it's so rejuvenating. And yeah you can wash your hair \\n 2. Move around and do light exercises – Builds strength and endures\\n 3. keeps stress and anxiety at bay \\n  4. Use a hot water bottle if required to alleviate discomfort from \\n 4. Eat iron-rich whole foods because your body loses blood \\n 5. Wash your hands before and after changing sanitary pads\""
   ]
  },
  {
   "cell_type": "code",
   "execution_count": 4,
   "metadata": {},
   "outputs": [
    {
     "name": "stdout",
     "output_type": "stream",
     "text": [
      "1. Take a warm bath – It aids in the removal of body odour and it's so rejuvenating. And yeah you can wash your hair \n",
      " 2. Move around and do light exercises – Builds strength and endures\n",
      " 3. keeps stress and anxiety at bay \n",
      "  4. Use a hot water bottle if required to alleviate discomfort from \n",
      " 4. Eat iron-rich whole foods because your body loses blood \n",
      " 5. Wash your hands before and after changing sanitary pads\n"
     ]
    }
   ],
   "source": [
    "print(menstruation)"
   ]
  },
  {
   "cell_type": "code",
   "execution_count": 5,
   "metadata": {},
   "outputs": [],
   "source": [
    "pelvic=[\"\"\"Dietary changes: For example, eating more fiber, drinking more fluids, and taking certain medications can make bowel movements easier.'\n",
    "'Laxatives: Taking a daily laxative may help people with pelvic floor dysfunction pass stool, but it is important to consult a healthcare provider first because not all laxatives are equally effective.'\n",
    "'Pain relief: Some people require injections of pain relief or anti-inflammatory medication to relieve their symptoms.'\n",
    "'Biofeedback: This involves electrical stimulation, ultrasound therapy, or massage of the pelvic floor muscles to help improve rectal sensation and muscle contraction.'\n",
    "'Pessary: A doctor or nurse inserts a pessary into the vagina to support prolapsed organs. This type of device can help treat various symptoms of pelvic floor dysfunction, either as an alternative to surgery or while a person awaits surgery.'\n",
    "'Surgery: When prolapse interferes with daily activities, a doctor may recommend surgery. Large rectoceles also require surgery if the person \"\"\"]\n",
    "        "
   ]
  },
  {
   "cell_type": "code",
   "execution_count": 6,
   "metadata": {},
   "outputs": [],
   "source": [
    "vulvodynia_sol=[\"\"\"Choose loose clothing',\n",
    "   'Wash with irritant-free detergents',\n",
    " 'Take a lukewarm sitz bath',\n",
    " 'Select cotton personal-products',\n",
    " 'Use gel packs for pain relief',\n",
    " 'Make dietary changes',\n",
    " 'Understanding the connection between pain and sex\"\"\"]"
   ]
  },
  {
   "cell_type": "code",
   "execution_count": 7,
   "metadata": {},
   "outputs": [],
   "source": [
    "pre_pregnancycare=[\"\"\"Develop a plan for their reproductive life.\n",
    "Increase their daily intake of folic acid (one of the B vitamins) to at least 400 micrograms.2\n",
    "Make sure their immunizations are up to date.\n",
    "Control diabetes and other medical conditions.\n",
    "Avoid smoking, drinking alcohol, and using drugs.\n",
    "Attain a healthy weight.\n",
    "Learn about their family health history and that of their partner.\n",
    "Seek help for depression, anxiety, or other mental health issues.\"\"\"]\n"
   ]
  },
  {
   "cell_type": "code",
   "execution_count": 8,
   "metadata": {},
   "outputs": [],
   "source": [
    "pregnancy_loss=[\"\"\"Be sure to take at least 400 mg of folic acid every day, beginning at least one to two months before conception, if possible.\n",
    " Exercise regularly.\n",
    "Eat healthy, well-balanced meals.\n",
    "Manage stress.\n",
    "Keep your weight within normal limits.\n",
    "Don't smoke and stay away from secondhand smoke.\n",
    "Don't drink alcohol or have more than one to two cups of a caffeinated beverage like coffee a day.\n",
    "Avoid illicit drugs.\n",
    "Make sure you are up to date on immunizations.\"\"\"]\n"
   ]
  },
  {
   "cell_type": "code",
   "execution_count": 9,
   "metadata": {},
   "outputs": [],
   "source": [
    "sids=[\"\"\"Never let your baby sleep on his stomach.\n",
    "         Side-sleeping isn’t safe, either.\n",
    "         Don’t put anything in the crib except a fitted sheet.\n",
    "         Maintain a comfortable temperature in the nursery.\n",
    "         Be careful with co-sleeping.\n",
    "         Breastfeed, if possible.\n",
    "         \n",
    "        \"\"\"]\n",
    "breastfeeding=[\"\"\"\n",
    "                 Seek support from a lactation consultant, breastfeeding specialist or healthcare professional, who'll be able to assess if you have a milk supply problem. The earlier you get help, the better. Feed on demand, not to a schedule.\n",
    "                 Until then, ease discomfort by nursing frequently, using a warm compress before feeding and a cold compress after, massaging your breasts while feeding, hand expression, switching up positions and wearing a well-fitting nursing bra.\n",
    "                 \"\"\"\n",
    "]\n"
   ]
  },
  {
   "cell_type": "code",
   "execution_count": 10,
   "metadata": {},
   "outputs": [],
   "source": [
    "birthdefect=[\"\"\"\n",
    "               Be sure to see your healthcare provider regularly and start prenatal care as soon as you think you might be pregnant.\n",
    "Get 400 micrograms (mcg) of folic acid every day, starting at least one month before getting pregnant.\n",
    "Don’t drink alcohol, smoke, or use “street” drugs.\n",
    "Talk to a healthcare provider about any medications you are taking or thinking about taking. This includes prescription and over-the-counter medications and dietary or herbal supplements. Don’t stop or start taking any type of medication without first talking with a doctor.\n",
    "Learn how to prevent infections during pregnancy.\n",
    "If possible, be sure any medical conditions are under control, before becoming pregnant. Some conditions that increase the risk for birth defects include diabetes and obesity.\n",
    "                  \"\"\"]\n",
    "uterine_fibroids=[\"\"\"Follow a Mediterranean diet. Add plenty of fresh and cooked green vegetables, fresh fruit, legumes, and fish to your plate. ...\n",
    "Cut back on alcohol\n",
    "Balance estrogen\n",
    "Lower blood pressure\n",
    "Get enough vitamin D\n",
    "A note about smoking and diet\"\"\"]\n",
    "\n",
    "\n",
    "pcos=[\"\"\"\n",
    "Balance carb and protein intake\n",
    "Adding anti-inflammatory foods to your diet can help ease your symptoms.\n",
    "Up your iron intake\n",
    "Almonds, cashews, spinach, and bananas are PCOS-friendly foods rich in magnesium.\n",
    "Add in some fiber to help with digestion\n",
    "Cut out coffee\n",
    "\"\"\"]\n",
    "endometriosis=[\"\"\"\n",
    "Hormonal contraceptives. Birth control pills, patches and vaginal rings help control the hormones responsible for the buildup of endometrial tissue each month. ...\n",
    "Gonadotropin-releasing hormone (Gn-RH) agonists and antagonists. ...\n",
    "Progestin therapy\n",
    "Aromatase inhibitors\n",
    "\"\"\"]\n"
   ]
  },
  {
   "cell_type": "code",
   "execution_count": null,
   "metadata": {},
   "outputs": [],
   "source": [
    "dic={\"Menstruation\":menstruation,\"Pelvic-Floor\":pelvic,\"Vulvodynia\":vulvodynia_sol,\"Pre-pregnancycare\":pre_pregnancycare,\"Pregnancy-loss\":pregnancy_loss,\"Sudden-infant-death-syndrome\":sids,\"Breastfeeding\":breastfeeding,\"Birthdefect\":birthdefect,\"Uterine-fibroids\":uterine_fibroids,\"PCOS\":pcos,\"Endometriosis\":endometriosis}\n"
   ]
  },
  {
   "cell_type": "code",
   "execution_count": null,
   "metadata": {},
   "outputs": [],
   "source": [
    "str(dic['Menstruation'])"
   ]
  },
  {
   "cell_type": "code",
   "execution_count": null,
   "metadata": {
    "scrolled": true
   },
   "outputs": [
    {
     "name": "stdout",
     "output_type": "stream",
     "text": [
      "Hello\n"
     ]
    }
   ],
   "source": [
    "for i in question:\n",
    "    print(i)\n",
    "    a=input(\"\")\n",
    "print(f\"ok  nice  to meet you {a}! how may i help you\")\n",
    "z=input()\n",
    "print(question1)\n",
    "x=int(input(\"\"))\n",
    "choice(x)"
   ]
  },
  {
   "cell_type": "code",
   "execution_count": null,
   "metadata": {},
   "outputs": [],
   "source": [
    "\n",
    "documents = []\n",
    "for TAG in my_frame[\"TAG\"]:\n",
    "    for SYMPTOMS in my_frame[\"SYMPTOMS\"]:\n",
    "        documents.append((SYMPTOMS,TAG))\n",
    "from random import shuffle \n",
    "shuffle(documents)\n",
    "punctuation = string.punctuation\n"
   ]
  },
  {
   "cell_type": "code",
   "execution_count": null,
   "metadata": {},
   "outputs": [],
   "source": [
    "total_words=[]\n",
    "def stop_word_remove(corpus, custom_stopwords=False):\n",
    "    \"\"\"\n",
    "        This function just iterate all documents from corpus and convert them into lowercase letters for case insensitivity\n",
    "        and also removes all stop words for documents\n",
    "    \n",
    "    \"\"\"\n",
    " \n",
    "    if custom_stopwords:\n",
    "        stop_words = custom_stopwords\n",
    "    else:\n",
    "        stop_words = stopwords.words('english')\n",
    "    processed_documents = []\n",
    "    for each_document in corpus:\n",
    "        each_document = each_document.strip().lower().split()\n",
    "        words = []\n",
    "        for word in each_document:\n",
    "            word = word.strip().lower()\n",
    "            new_word = []\n",
    "            for char in word:\n",
    "                if char not in punctuation and ord(char) < 130:\n",
    "                    new_word.append(char)\n",
    "            word = ''.join(new_word)\n",
    "            if word and word not in stop_words:\n",
    "                words.append(word)\n",
    "                total_words.append(word)\n",
    "        processed_documents.append(' '.join(words))\n",
    "    return processed_documents   \n"
   ]
  },
  {
   "cell_type": "code",
   "execution_count": null,
   "metadata": {},
   "outputs": [],
   "source": [
    "my_frame=pd.read_csv(\"m\")"
   ]
  },
  {
   "cell_type": "code",
   "execution_count": null,
   "metadata": {},
   "outputs": [],
   "source": [
    "my_frame.head(10)"
   ]
  },
  {
   "cell_type": "code",
   "execution_count": null,
   "metadata": {},
   "outputs": [],
   "source": [
    "\n",
    "def choice(x,n):\n",
    "    if(x==1):\n",
    "        total_words=[]\n",
    "        symtoms = stop_word_remove(my_frame[\"SYMPTOMS\"])\n",
    "        from nltk import FreqDist\n",
    "        all_words_frequency = FreqDist(total_words)\n",
    "\n",
    "\n",
    "        from sklearn.feature_extraction.text import CountVectorizer\n",
    "        vectorizer = CountVectorizer()\n",
    "\n",
    "        vectorizer.fit(symtoms)\n",
    "        features = vectorizer.transform(symtoms)\n",
    "\n",
    "        from sklearn.feature_extraction.text import TfidfTransformer\n",
    "\n",
    "        tfidf_transformer = TfidfTransformer().fit(features)\n",
    "        messages_tfidf = tfidf_transformer.transform(features)\n",
    "\n",
    "        target=my_frame[\"TAG\"]\n",
    "        target.head(18)\n",
    "\n",
    "        from sklearn.naive_bayes import GaussianNB\n",
    "        model = GaussianNB()\n",
    "        model.fit(features.toarray(),target)\n",
    "\n",
    "\n",
    "        new_messegs=[]\n",
    "        print(\"please enter your symptoms babe\")\n",
    "        new_messegs.append(n)\n",
    "        d=pd.DataFrame({\"mess\":new_messegs})\n",
    "        ##symtoms = stop_word_remove(preg_frame1[\"ANSWERS\"])\n",
    "        total_words = []\n",
    "        new = stop_word_remove(d[\"mess\"])\n",
    "        new_vectors = vectorizer.transform(new)\n",
    "        return model.predict(new_vectors.toarray())\n",
    "    elif(x==2):\n",
    "        print(\"you can get to know the solution \")\n",
    "        \n",
    "        if (n in dic):\n",
    "            return dic[n]\n",
    "        else:\n",
    "            return \"OOPS not found!!\"\n",
    "    elif(x==3):\n",
    "        \n",
    "        a=list(my_frame[\"SYMPTOMS\"][my_frame[\"TAG\"]==n])\n",
    "        return str(a)\n",
    "        \n",
    "    elif(x==4):\n",
    "        q = stop_word_remove(my_frame[\"QUESTIONS\"])\n",
    "\n",
    "        from sklearn.feature_extraction.text import CountVectorizer\n",
    "        vectorizer = CountVectorizer()\n",
    "\n",
    "        vectorizer.fit(q)\n",
    "\n",
    "        features1 = vectorizer.transform(q)\n",
    "\n",
    "        from sklearn.feature_extraction.text import TfidfTransformer\n",
    "\n",
    "        tfidf_transformer = TfidfTransformer().fit(features1)\n",
    "        messages_tfidf = tfidf_transformer.transform(features1)\n",
    "\n",
    "        target1=my_frame[\"ANSWERS\"]\n",
    "\n",
    "        from sklearn.naive_bayes import GaussianNB\n",
    "\n",
    "        model1 = GaussianNB()\n",
    "\n",
    "        model1.fit(features1.toarray(),target1)\n",
    "\n",
    "        new_messagee =[]\n",
    "        print(\"please enter your query babe\")\n",
    "        \n",
    "        new_messagee.append(n)\n",
    "        c=pd.DataFrame({\"mess\":new_messagee})\n",
    "\n",
    "\n",
    "\n",
    "        total_words = []\n",
    "        news= stop_word_remove(c[\"mess\"])\n",
    "        new_vectorss = vectorizer.transform(news)\n",
    "        return str(model1.predict(new_vectorss.toarray()))\n",
    "        \n",
    "    elif(x==5):\n",
    "        print(\"write the problem which you are facing.\")\n",
    "        if n in probs:\n",
    "            j=probs.index(n)\n",
    "            return f\"about:{about[j]}\"+ f\"solution:{solution[j]}\"\n",
    "        \n",
    "        \n",
    "        \n",
    "\n",
    "        \n",
    "\n",
    "\n",
    "    "
   ]
  },
  {
   "cell_type": "code",
   "execution_count": null,
   "metadata": {},
   "outputs": [],
   "source": [
    "pregnancy=pd.read_csv(\"prega\")"
   ]
  },
  {
   "cell_type": "code",
   "execution_count": null,
   "metadata": {},
   "outputs": [],
   "source": [
    "pregnancy"
   ]
  },
  {
   "cell_type": "code",
   "execution_count": null,
   "metadata": {},
   "outputs": [],
   "source": [
    "prob=pregnancy[\"PROB\"]"
   ]
  },
  {
   "cell_type": "code",
   "execution_count": null,
   "metadata": {},
   "outputs": [],
   "source": [
    "probs=[]\n",
    "for i in prob:\n",
    "    i=i.strip(':')\n",
    "    probs.append(i)"
   ]
  },
  {
   "cell_type": "code",
   "execution_count": null,
   "metadata": {},
   "outputs": [],
   "source": [
    "probs"
   ]
  },
  {
   "cell_type": "code",
   "execution_count": null,
   "metadata": {},
   "outputs": [],
   "source": [
    "about=list(pregnancy[\"ABOUT\"])"
   ]
  },
  {
   "cell_type": "code",
   "execution_count": null,
   "metadata": {},
   "outputs": [],
   "source": [
    "about"
   ]
  },
  {
   "cell_type": "code",
   "execution_count": null,
   "metadata": {},
   "outputs": [],
   "source": [
    "solution=list(pregnancy['SOLUTION'])"
   ]
  },
  {
   "cell_type": "code",
   "execution_count": null,
   "metadata": {},
   "outputs": [],
   "source": [
    "solution"
   ]
  },
  {
   "cell_type": "code",
   "execution_count": null,
   "metadata": {},
   "outputs": [],
   "source": [
    "len(probs)"
   ]
  },
  {
   "cell_type": "code",
   "execution_count": null,
   "metadata": {},
   "outputs": [],
   "source": []
  },
  {
   "cell_type": "code",
   "execution_count": null,
   "metadata": {},
   "outputs": [],
   "source": [
    "from tkinter import *\n",
    "from PIL import ImageTk ,Image\n",
    "main=Tk()\n",
    "main.geometry(\"400x650\")\n",
    "main.title(\"A CHANGE\")\n",
    "img=PhotoImage(file=\"nurse.png\")\n",
    "photoL=Label(main,image=img)\n",
    "photoL.pack(pady=5)\n",
    "def ask_from_bot():\n",
    "    you=textF.get()\n",
    "    if you=='Hello' or you=='hi' or you=='hey':\n",
    "        bot=\"hey! how may i help you?\"\n",
    "    elif you==\"i am not well\" or you==\"need help\" or you==\"facing some disease\":\n",
    "        bot=\"press 1 to know  disease,2 info of prevention&solution of disease,3 forsymptoms,causes of disease,4:queries related to any particular disease,5:pregnancy related queries\"\n",
    "    elif you[0]==str(\"1\"):\n",
    "        b=you.split(' ')\n",
    "        n=' '.join(b[1:])\n",
    "        x=int(you[0])\n",
    "        bot=str(choice(x,n))\n",
    "    elif you[0]==str(\"2\"):\n",
    "        b=you.split(' ')\n",
    "        n=' '.join(b[1:])\n",
    "        x=int(you[0])\n",
    "        bot=str(choice(x,n))\n",
    "        \n",
    "        \n",
    "    elif you[0]==str(\"3\"):\n",
    "        b=you.split(' ')\n",
    "        n=' '.join(b[1:])\n",
    "        x=int(you[0])\n",
    "        bot=str(choice(x,n))\n",
    "    elif you[0]==str(\"4\"):\n",
    "        b=you.split(' ')\n",
    "        n=' '.join(b[1:])\n",
    "        x=int(you[0])\n",
    "        bot=str(choice(x,n))\n",
    "    elif you[0]==str(\"5\"):\n",
    "        b=you.split(' ')\n",
    "        n=' '.join(b[1:])\n",
    "        x=int(you[0])\n",
    "        bot=str(choice(x,n))\n",
    "        \n",
    "        \n",
    "    msgs.insert(END,\"YOU: \"+you)\n",
    "    msgs.insert(END,\"BOT: \"+bot)\n",
    " \n",
    "    textF.delete(0,END)\n",
    "frame=Frame(main)\n",
    "sc=Scrollbar(frame)\n",
    "b=Scrollbar(frame,orient='horizontal')\n",
    "msgs=Listbox(frame,width=900,height=20,bg=\"pink\",fg=\"black\")\n",
    "sc.pack(side=RIGHT,fill=Y)\n",
    "b.pack(side=BOTTOM, fill=X)\n",
    "b.config(command=msgs.xview)\n",
    "sc.config(command=msgs.yview)\n",
    "msgs.pack(side=LEFT,fill=BOTH,pady=10)\n",
    "frame.pack()\n",
    "textF=Entry(main,font=(\"Verdana\",20))\n",
    "textF.pack(fill=X,pady=10)\n",
    "btn=Button(main,text=\"ASK FROM BOT\",font=(\"Verdana\",20),command=ask_from_bot,bg=\"Red\",fg=\"white\")\n",
    "btn.pack()\n",
    "eb=Button(main,text=\"EXIT\",font=30,command=main.destroy,bg='black',fg='white')\n",
    "eb.pack(padx=20,pady=20)\n",
    "main.iconbitmap('Red.ico')\n",
    "main.mainloop()\n"
   ]
  },
  {
   "cell_type": "code",
   "execution_count": null,
   "metadata": {},
   "outputs": [],
   "source": []
  },
  {
   "cell_type": "code",
   "execution_count": null,
   "metadata": {},
   "outputs": [],
   "source": [
    "x"
   ]
  }
 ],
 "metadata": {
  "kernelspec": {
   "display_name": "Python 3",
   "language": "python",
   "name": "python3"
  },
  "language_info": {
   "codemirror_mode": {
    "name": "ipython",
    "version": 3
   },
   "file_extension": ".py",
   "mimetype": "text/x-python",
   "name": "python",
   "nbconvert_exporter": "python",
   "pygments_lexer": "ipython3",
   "version": "3.7.6"
  }
 },
 "nbformat": 4,
 "nbformat_minor": 4
}
